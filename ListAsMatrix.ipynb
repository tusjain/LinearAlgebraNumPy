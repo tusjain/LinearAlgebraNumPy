{
  "nbformat": 4,
  "nbformat_minor": 0,
  "metadata": {
    "colab": {
      "provenance": [],
      "gpuType": "T4",
      "authorship_tag": "ABX9TyPpqAHtHEZdnYx7rwMAJgc6",
      "include_colab_link": true
    },
    "kernelspec": {
      "name": "python3",
      "display_name": "Python 3"
    },
    "language_info": {
      "name": "python"
    },
    "accelerator": "GPU"
  },
  "cells": [
    {
      "cell_type": "markdown",
      "metadata": {
        "id": "view-in-github",
        "colab_type": "text"
      },
      "source": [
        "<a href=\"https://colab.research.google.com/github/tusjain/LinearAlgebraNumPy/blob/main/ListAsMatrix.ipynb\" target=\"_parent\"><img src=\"https://colab.research.google.com/assets/colab-badge.svg\" alt=\"Open In Colab\"/></a>"
      ]
    },
    {
      "cell_type": "code",
      "execution_count": 1,
      "metadata": {
        "colab": {
          "base_uri": "https://localhost:8080/"
        },
        "id": "3icpYZ4XPJyi",
        "outputId": "afadd393-f505-4c68-eb09-dbd634e152b4"
      },
      "outputs": [
        {
          "output_type": "stream",
          "name": "stdout",
          "text": [
            "a = [1, 3, 7, 2]\n",
            "A = [[1, 3, 7, 2], [5, 8, -9, 0], [6, -7, 11, 12]]\n"
          ]
        }
      ],
      "source": [
        "a = [1, 3, 7, 2]\n",
        "print(\"a =\", a)\n",
        "A = [[1, 3, 7, 2],\n",
        "[5, 8, -9, 0],\n",
        "[6, -7, 11, 12]]\n",
        "print(\"A =\", A)"
      ]
    }
  ]
}