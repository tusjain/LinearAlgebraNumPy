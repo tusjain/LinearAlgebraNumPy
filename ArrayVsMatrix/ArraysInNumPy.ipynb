{
  "nbformat": 4,
  "nbformat_minor": 0,
  "metadata": {
    "colab": {
      "provenance": [],
      "authorship_tag": "ABX9TyM3Pcbl4dp/pMLk4BIhUmQN",
      "include_colab_link": true
    },
    "kernelspec": {
      "name": "python3",
      "display_name": "Python 3"
    },
    "language_info": {
      "name": "python"
    }
  },
  "cells": [
    {
      "cell_type": "markdown",
      "metadata": {
        "id": "view-in-github",
        "colab_type": "text"
      },
      "source": [
        "<a href=\"https://colab.research.google.com/github/tusjain/LinearAlgebraNumPy/blob/main/ArrayVsMatrix/ArraysInNumPy.ipynb\" target=\"_parent\"><img src=\"https://colab.research.google.com/assets/colab-badge.svg\" alt=\"Open In Colab\"/></a>"
      ]
    },
    {
      "cell_type": "code",
      "execution_count": 1,
      "metadata": {
        "colab": {
          "base_uri": "https://localhost:8080/"
        },
        "id": "-1Yc9ZShclsn",
        "outputId": "b386e481-6336-4b07-eb9a-3a2821966b9b"
      },
      "outputs": [
        {
          "output_type": "stream",
          "name": "stdout",
          "text": [
            "Array: [1 2 3 4 5]\n",
            "First element: 1\n",
            "Last element: 5\n",
            "Squared array: [ 1  4  9 16 25]\n",
            "Square root array: [1.         1.41421356 1.73205081 2.         2.23606798]\n",
            "Reshaped array:\n",
            " [[1]\n",
            " [2]\n",
            " [3]\n",
            " [4]\n",
            " [5]]\n",
            "Combined array: [ 1  2  3  4  5  6  7  8  9 10]\n"
          ]
        }
      ],
      "source": [
        "import numpy as np\n",
        "\n",
        "# Creating a NumPy array\n",
        "my_array = np.array([1, 2, 3, 4, 5])\n",
        "print(\"Array:\", my_array)\n",
        "\n",
        "# Accessing elements of the array\n",
        "print(\"First element:\", my_array[0])\n",
        "print(\"Last element:\", my_array[-1])\n",
        "\n",
        "# Performing arithmetic operations on the array\n",
        "squared_array = my_array ** 2\n",
        "print(\"Squared array:\", squared_array)\n",
        "\n",
        "# Applying a mathematical function to the array\n",
        "sqrt_array = np.sqrt(my_array)\n",
        "print(\"Square root array:\", sqrt_array)\n",
        "\n",
        "# Reshaping the array (transposing)\n",
        "reshaped_array = my_array.reshape(5, 1)\n",
        "print(\"Reshaped array:\\n\", reshaped_array)\n",
        "\n",
        "# Combining two arrays\n",
        "new_array = np.array([6, 7, 8, 9, 10])\n",
        "combined_array = np.concatenate((my_array, new_array))\n",
        "print(\"Combined array:\", combined_array)"
      ]
    },
    {
      "cell_type": "markdown",
      "source": [
        "1. Arrays can have any number of dimensions, ranging from one (vectors), two (matrices), and even more.\n",
        "2. Numerous types of numerical information, including complex numbers, integers, and floating point numbers, can be stored in them.\n",
        "3. Arrays are memeory efficient, so useful in managing large datasets."
      ],
      "metadata": {
        "id": "XRfhO7Ixcx9l"
      }
    }
  ]
}