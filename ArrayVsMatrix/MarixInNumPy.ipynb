{
  "nbformat": 4,
  "nbformat_minor": 0,
  "metadata": {
    "colab": {
      "provenance": [],
      "authorship_tag": "ABX9TyPcOPlp3QUghUCt/4yHxW+U",
      "include_colab_link": true
    },
    "kernelspec": {
      "name": "python3",
      "display_name": "Python 3"
    },
    "language_info": {
      "name": "python"
    }
  },
  "cells": [
    {
      "cell_type": "markdown",
      "metadata": {
        "id": "view-in-github",
        "colab_type": "text"
      },
      "source": [
        "<a href=\"https://colab.research.google.com/github/tusjain/LinearAlgebraNumPy/blob/main/ArrayVsMatrix/MarixInNumPy.ipynb\" target=\"_parent\"><img src=\"https://colab.research.google.com/assets/colab-badge.svg\" alt=\"Open In Colab\"/></a>"
      ]
    },
    {
      "cell_type": "code",
      "execution_count": null,
      "metadata": {
        "id": "tn9WpLgAei_O"
      },
      "outputs": [],
      "source": [
        "import numpy as np\n",
        "\n",
        "# Creating a matrix\n",
        "my_matrix = np.array([[1, 2, 3], [4, 5, 6], [7, 8, 9]])\n",
        "print(\"Matrix:\\n\", my_matrix)\n",
        "\n",
        "# Accessing elements of the matrix\n",
        "print(\"Element at row 1, column 2:\", my_matrix[1, 2])\n",
        "\n",
        "# Performing matrix multiplication\n",
        "matrix_2 = np.array([[2, 4, 6], [1, 3, 5], [7, 8, 9]])\n",
        "result_matrix = np.matmul(my_matrix, matrix_2)\n",
        "print(\"Result of matrix multiplication:\\n\", result_matrix)\n",
        "\n",
        "# Finding the determinant of the matrix\n",
        "determinant = np.linalg.det(my_matrix)\n",
        "print(\"Determinant of the matrix:\", determinant)"
      ]
    },
    {
      "cell_type": "markdown",
      "source": [
        "1. Matrix can have only two dimensions.\n",
        "2. The way operators behave when used with matrices is another distinction. The * operator in NumPy denotes matrix multiplication for matrices but represents element wise multiplication for arrays. Similar to this, the ** operator multiplies arrays element by element but exponentiates matrices. Matrix based techniques for executing linear algebraic operations, such as determining determinants, calculating eigenvalues and eigenvectors, and performing singular value decomposition, are also available. These matrices specific functions make difficult linear algebra computations simpler and improve readability in mathematical contexts."
      ],
      "metadata": {
        "id": "0XUnKh7qfHmQ"
      }
    }
  ]
}