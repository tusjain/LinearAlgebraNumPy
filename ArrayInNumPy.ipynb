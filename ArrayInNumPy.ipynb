{
  "nbformat": 4,
  "nbformat_minor": 0,
  "metadata": {
    "colab": {
      "provenance": [],
      "authorship_tag": "ABX9TyPY9sPRKwHrJBTeIzvhRG9E",
      "include_colab_link": true
    },
    "kernelspec": {
      "name": "python3",
      "display_name": "Python 3"
    },
    "language_info": {
      "name": "python"
    }
  },
  "cells": [
    {
      "cell_type": "markdown",
      "metadata": {
        "id": "view-in-github",
        "colab_type": "text"
      },
      "source": [
        "<a href=\"https://colab.research.google.com/github/tusjain/LinearAlgebraNumPy/blob/main/ArrayInNumPy.ipynb\" target=\"_parent\"><img src=\"https://colab.research.google.com/assets/colab-badge.svg\" alt=\"Open In Colab\"/></a>"
      ]
    },
    {
      "cell_type": "code",
      "execution_count": 6,
      "metadata": {
        "colab": {
          "base_uri": "https://localhost:8080/"
        },
        "id": "YxBsiJ46Rna2",
        "outputId": "99c525da-f6df-4ea1-97b3-d5586622f943"
      },
      "outputs": [
        {
          "output_type": "stream",
          "name": "stdout",
          "text": [
            "a = [[1]\n",
            " [3]\n",
            " [7]\n",
            " [2]]\n",
            "b = [1 2 3 4]\n",
            "A = [[ 1  3  7  2]\n",
            " [ 5  8 -9  0]\n",
            " [ 6 -7 11 12]]\n"
          ]
        }
      ],
      "source": [
        "import numpy as np\n",
        "a = np.array([[1], [3], [7], [2]])\n",
        "print(\"a =\", a)\n",
        "# vector can also be created as following\n",
        "b = np.array([1, 2, 3, 4])\n",
        "print(\"b =\", b)\n",
        "\n",
        "A = np.array([[1, 3, 7, 2], [5, 8, -9, 0], [6, -7, 11, 12]])\n",
        "print(\"A =\", A)\n"
      ]
    },
    {
      "cell_type": "markdown",
      "source": [
        "Vector a = [ 1  3   7  2]\n",
        "\n",
        "3x4 Matrix   ![11111.png](data:image/png;base64,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)"
      ],
      "metadata": {
        "id": "zyfBJ_sOR3Bt"
      }
    }
  ]
}